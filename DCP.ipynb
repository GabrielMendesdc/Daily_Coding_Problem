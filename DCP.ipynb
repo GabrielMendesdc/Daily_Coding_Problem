{
 "cells": [
  {
   "cell_type": "code",
   "execution_count": 1,
   "id": "7872e7b4",
   "metadata": {},
   "outputs": [
    {
     "data": {
      "text/html": [
       "<style>.container { width:90% !important; }</style>"
      ],
      "text/plain": [
       "<IPython.core.display.HTML object>"
      ]
     },
     "metadata": {},
     "output_type": "display_data"
    }
   ],
   "source": [
    "from IPython.core.display import display, HTML\n",
    "display(HTML(\"<style>.container { width:90% !important; }</style>\"))"
   ]
  },
  {
   "cell_type": "code",
   "execution_count": 2,
   "id": "52c677ae",
   "metadata": {},
   "outputs": [
    {
     "name": "stdout",
     "output_type": "stream",
     "text": [
      "True\n"
     ]
    }
   ],
   "source": [
    "# dia 13/12/2021\n",
    "\n",
    "'''Good morning! Here's your coding interview problem for today.\n",
    "This problem was recently asked by Google.\n",
    "Given a list of numbers and a number k, return whether any two numbers from the list add up to k.\n",
    "For example, given [10, 15, 3, 7] and k of 17, return true since 10 + 7 is 17.\n",
    "\n",
    "Bonus: Can you do this in one pass?'''\n",
    "\n",
    "lista = [10,15,3,7]\n",
    "k=25\n",
    "def checagem(lista):\n",
    "    for i in lista:\n",
    "        for j in lista:\n",
    "            if i + j == k and lista.index(i) != lista.index(j):\n",
    "                return True\n",
    "            \n",
    "print(checagem(lista))"
   ]
  },
  {
   "cell_type": "code",
   "execution_count": 3,
   "id": "d82a348c",
   "metadata": {},
   "outputs": [
    {
     "name": "stdout",
     "output_type": "stream",
     "text": [
      "[120, 60, 40, 30, 24]\n"
     ]
    }
   ],
   "source": [
    "# dia 14/12/2021\n",
    "\n",
    "'''Good morning! Here's your coding interview problem for today.\n",
    "This problem was asked by Uber.\n",
    "Given an array of integers, return a new array such that each\n",
    "element at index i of the new array is the product of all the\n",
    "numbers in the original array except the one at i.\n",
    "For example, if our input was [1, 2, 3, 4, 5], the expected output\n",
    "would be [120, 60, 40, 30, 24]. If our input was [3, 2, 1],\n",
    "the expected output would be [2, 3, 6].\n",
    "\n",
    "Follow-up: what if you can't use division?'''\n",
    "\n",
    "lista = [1,2,3,4,5]\n",
    "nova = []\n",
    "soma = 1\n",
    "\n",
    "for i in lista:\n",
    "    for j in lista:\n",
    "        if lista.index(i) != lista.index(j):\n",
    "            soma = soma * j\n",
    "    nova.append(soma)\n",
    "    soma = 1\n",
    "print(nova)"
   ]
  },
  {
   "cell_type": "code",
   "execution_count": 4,
   "id": "715bf972",
   "metadata": {},
   "outputs": [
    {
     "name": "stdout",
     "output_type": "stream",
     "text": [
      "[1, 4, 6, 8, 10, 11, 15, 16, 18]\n"
     ]
    }
   ],
   "source": [
    "# dia 15/12/21\n",
    "\n",
    "'''23. Write a Python program to find the indices for which the numbers\n",
    "      of a given list of numbers array drops.\n",
    "\n",
    "Input: [0, -1, 3, 8, 5, 9, 8, 14, 2, 4, 3, -10, 10, 17, 41, 22, -4, -4, -15, 0]\n",
    "Output: [1, 4, 6, 8, 10, 11, 15, 16, 18]'''\n",
    "\n",
    "#esse problema não é o do Daily Code Problem, é do site https://www.w3resource.com/python-exercises/puzzles/index.php\n",
    "#the DCP was a file exercise and i didnt like it, so i done this\n",
    "\n",
    "lista = [0, -1, 3, 8, 5, 9, 8, 14, 2, 4, 3, -10, 10, 17, 41, 22, -4, -4, -15, 0]\n",
    "aux = 0\n",
    "nova = []\n",
    "for i in range(len(lista)):\n",
    "    if i == 0:\n",
    "        aux = lista[i]\n",
    "        continue\n",
    "    elif lista[i] < aux:\n",
    "        nova.append(i)\n",
    "    aux = lista[i]\n",
    "print(nova)"
   ]
  },
  {
   "cell_type": "code",
   "execution_count": 5,
   "id": "7b0586e5",
   "metadata": {},
   "outputs": [
    {
     "name": "stdout",
     "output_type": "stream",
     "text": [
      "O 2 não está no array :D\n"
     ]
    }
   ],
   "source": [
    "# dia 16/12/2021\n",
    "\n",
    "'''Good morning! Here's your coding interview problem for today.\n",
    "This problem was asked by Stripe.Given an array of integers, \n",
    "find the first missing positive integer in linear time and constant space.\n",
    "In other words, find the lowest positive integer that does not exist in the array.\n",
    "The array can contain duplicates and negative numbers as well.\n",
    "For example, the input [3, 4, -1, 1] should give 2. The input [1, 2, 0] should give 3.\n",
    "You can modify the input array in-place.'''\n",
    "\n",
    "array = [3, 4, -1, 1]\n",
    "for i in range(1,len(array)):\n",
    "    if i not in array:\n",
    "        print(f'O {i} não está no array :D')\n",
    "        break"
   ]
  },
  {
   "cell_type": "code",
   "execution_count": 6,
   "id": "86de36d0",
   "metadata": {},
   "outputs": [
    {
     "name": "stdout",
     "output_type": "stream",
     "text": [
      "3\n",
      "4\n"
     ]
    }
   ],
   "source": [
    "# dia 17/12/2021\n",
    "\n",
    "'''cons(a, b) constructs a pair, and car(pair)\n",
    "and cdr(pair) returns the first and last element\n",
    "of that pair. For example, car(cons(3, 4)) returns 3,\n",
    "and cdr(cons(3, 4)) returns 4.\n",
    "Given this implementation of cons:\n",
    "Implement car and cdr.'''\n",
    "\n",
    "\n",
    "def cons(a, b):\n",
    "    def pair(f):\n",
    "        return f(a, b)\n",
    "    return pair\n",
    "\n",
    "\n",
    "def cdr(x):\n",
    "    def retorno(a,b):\n",
    "        return a\n",
    "    return x(retorno)\n",
    "    \n",
    "def car(x):\n",
    "    def retorna(a,b):\n",
    "        return b\n",
    "    return x(retorna)\n",
    "\n",
    "\n",
    "print(cdr(cons(3,4)))\n",
    "print(car(cons(3,4)))"
   ]
  },
  {
   "cell_type": "code",
   "execution_count": 7,
   "id": "10c4d46b",
   "metadata": {},
   "outputs": [
    {
     "name": "stdout",
     "output_type": "stream",
     "text": [
      "a e\n",
      "a i\n",
      "a o\n",
      "a u\n",
      "e i\n",
      "e o\n",
      "e u\n",
      "i o\n",
      "i u\n",
      "o u\n"
     ]
    }
   ],
   "source": [
    "# dia 18/12/2021\n",
    "\n",
    "'''Good morning! Here's your coding interview problem for today.\n",
    "This problem was asked by Google.\n",
    "An XOR linked list is a more memory efficient doubly linked list.\n",
    "Instead of each node holding next and prev fields, it holds a field named both,\n",
    "which is an XOR of the next node and the previous node. Implement an XOR linked list;\n",
    "it has an add(element) which adds the element to the end,\n",
    "and a get(index)which returns the node at index.\n",
    "If using a language that has no pointers (such as Python),\n",
    "you can assume you have access to get_pointer and dereference_pointer functions\n",
    "that converts between nodes and memory addresses'''\n",
    "\n",
    "#???\n",
    "''' W3 exercice: Write a Python program to create all possible strings by using \n",
    "'a', 'e', 'i', 'o', 'u'. Use the characters exactly once.'''\n",
    "lista = ['a', 'e', 'i', 'o', 'u']\n",
    "nova = []\n",
    "def gera(lista):\n",
    "    for i in lista:\n",
    "        for j in range(len(lista)):\n",
    "            if j == 0:\n",
    "                continue\n",
    "            print(i,lista[j])\n",
    "        lista = lista[1:]\n",
    "        \n",
    "gera(lista)"
   ]
  },
  {
   "cell_type": "code",
   "execution_count": 8,
   "id": "e580718d",
   "metadata": {},
   "outputs": [
    {
     "name": "stdout",
     "output_type": "stream",
     "text": [
      "numero pls: 181\n",
      "add 18\n",
      "2\n"
     ]
    }
   ],
   "source": [
    " # dia 19/12/2021\n",
    "    \n",
    "'''Daily Coding Problem\n",
    "Good morning! Here's your coding interview problem for today.\n",
    "This problem was asked by Facebook. Given the mapping a = 1, b = 2, ... z = 26,\n",
    "and an encoded message, count the number of ways it can be decoded.\n",
    "For example, the message '111' would give 3, since it could be decoded as 'aaa', 'ka', and 'ak'.\n",
    "You can assume that the messages are decodable. For example, '001' is not allowed.'''\n",
    "\n",
    "n = int(input('numero pls: '))\n",
    "\n",
    "def descobre(n):\n",
    "    stri = str(n)\n",
    "    poss = 1\n",
    "    lis=['a','b','c','d','e','f','g','h','i','j','k','l','m','n',\n",
    "         'o','p','q','r','s','t','u','v','w','x','y','z']\n",
    "    \n",
    "    for i in range(len(stri)):\n",
    "        if int(stri[i:i+2]) < 27 and int(stri[i:i+2]) > 9:\n",
    "            print('add',stri[i:i+2])\n",
    "            poss += 1\n",
    "    return poss\n",
    "print(descobre(n))\n"
   ]
  },
  {
   "cell_type": "code",
   "execution_count": 9,
   "id": "bc668ab8",
   "metadata": {},
   "outputs": [
    {
     "data": {
      "text/plain": [
       "' \\n14. Write a Python program to calculate number of days between two dates.\\nSample dates : (2014, 7, 2), (2014, 7, 11)\\nExpected output : 9 days\\n'"
      ]
     },
     "execution_count": 9,
     "metadata": {},
     "output_type": "execute_result"
    }
   ],
   "source": [
    "# dia 20/12/2021\n",
    "\n",
    "'''\n",
    "Good morning! Here's your coding interview problem for today.\n",
    "\n",
    "This problem was asked by Google.\n",
    "\n",
    "A unival tree (which stands for \"universal value\") is a tree where all nodes under it have the same value.\n",
    "\n",
    "Given the root to a binary tree, count the number of unival subtrees.\n",
    "\n",
    "For example, the following tree has 5 unival subtrees:\n",
    "\n",
    "   0\n",
    "  / \\\n",
    " 1   0\n",
    "    / \\\n",
    "   1   0\n",
    "  / \\\n",
    " 1   1\n",
    " \n",
    " '''\n",
    "\n",
    "#???"
   ]
  },
  {
   "cell_type": "code",
   "execution_count": 10,
   "id": "1bd0a492",
   "metadata": {},
   "outputs": [
    {
     "data": {
      "text/plain": [
       "'This problem was asked by Airbnb.\\nGiven a list of integers, write a function that returns\\nthe largest sum of non-adjacent numbers. Numbers can be 0 or negative.\\nFor example, [2, 4, 6, 2, 5] should return 13, since we pick 2, 6, and 5.\\n[5, 1, 1, 5] should return 10, since we pick 5 and 5.'"
      ]
     },
     "execution_count": 10,
     "metadata": {},
     "output_type": "execute_result"
    }
   ],
   "source": [
    "# DIA 21/12/2021\n",
    "\n",
    "'''This problem was asked by Airbnb.\n",
    "Given a list of integers, write a function that returns\n",
    "the largest sum of non-adjacent numbers. Numbers can be 0 or negative.\n",
    "For example, [2, 4, 6, 2, 5] should return 13, since we pick 2, 6, and 5.\n",
    "[5, 1, 1, 5] should return 10, since we pick 5 and 5.'''\n",
    "\n",
    "# ???"
   ]
  },
  {
   "cell_type": "code",
   "execution_count": null,
   "id": "1858f61b",
   "metadata": {},
   "outputs": [
    {
     "name": "stdout",
     "output_type": "stream",
     "text": [
      "F\n"
     ]
    }
   ],
   "source": [
    "# dia 22/12/2021\n",
    "\n",
    "'''Good morning! Here's your coding interview problem for today.\n",
    "This problem was asked by Apple.\n",
    "Implement a job scheduler which takes in a function f and an integer n,\n",
    "and calls f after n milliseconds.'''\n",
    "\n",
    "import time\n",
    "\n",
    "def f():\n",
    "    print('F')\n",
    "\n",
    "def chama(f, n):\n",
    "    time.sleep(n)\n",
    "    f()\n",
    "    \n",
    "    \n",
    "chama(f(),1000)"
   ]
  },
  {
   "cell_type": "code",
   "execution_count": null,
   "id": "d2be128a",
   "metadata": {
    "code_folding": []
   },
   "outputs": [],
   "source": [
    "# dia 27/12/2021\n",
    "\n",
    "'''Good morning! Here's your coding interview problem for today.\n",
    "This problem was asked by Amazon. There exists a staircase with N steps,\n",
    "and you can climb up either 1 or 2 steps at a time. Given N,\n",
    "write a function that returns the number of unique ways you can climb the staircase.\n",
    "The order of the steps matters.\n",
    "For example, if N is 4, then there are 5 unique ways:\n",
    "\n",
    "1, 1, 1, 1\n",
    "2, 1, 1\n",
    "1, 2, 1\n",
    "1, 1, 2\n",
    "2, 2\n",
    "\n",
    "What if, instead of being able to climb 1 or 2 steps at a time,\n",
    "you could climb any number from a set of positive integers X?\n",
    "For example, if X = {1, 3, 5}, you could climb 1, 3, or 5 steps at a time.'''"
   ]
  },
  {
   "cell_type": "code",
   "execution_count": null,
   "id": "c6cf0703",
   "metadata": {},
   "outputs": [],
   "source": [
    "# dia 27/12/2021\n",
    "\n",
    "'''Good morning! Here's your coding interview problem for today.\n",
    "This problem was asked by Google. The area of a circle is defined as πr^2.\n",
    "Estimate π to 3 decimal places using a Monte Carlo method.\n",
    "Hint: The basic equation of a circle is x2 + y2 = r2.'''\n",
    "\n",
    "import random\n",
    "  \n",
    "INTERVAL= 1000\n",
    "  \n",
    "circle_points= 0\n",
    "square_points= 0\n",
    "  \n",
    "for i in range(INTERVAL**2):\n",
    "    rand_x= random.uniform(-1, 1)\n",
    "    rand_y= random.uniform(-1, 1)\n",
    "    origin_dist= rand_x**2 + rand_y**2\n",
    "    if origin_dist<= 1:\n",
    "        circle_points+= 1\n",
    "    square_points+= 1\n",
    "    pi = 4* circle_points/ square_points\n",
    "\n",
    "print(\"Final Estimation of Pi=\", pi) "
   ]
  },
  {
   "cell_type": "code",
   "execution_count": null,
   "id": "a4ac3413",
   "metadata": {},
   "outputs": [],
   "source": [
    "'''Good morning! Here's your coding interview problem for today.\n",
    "This problem was asked by Amazon.\n",
    "Given an integer k and a string s, find the length of the longest substring that contains at most k distinct characters.\n",
    "For example, given s = \"abcba\" and k = 2, the longest substring with k distinct characters is \"bcb\".'''"
   ]
  },
  {
   "cell_type": "code",
   "execution_count": null,
   "id": "1a560ddd",
   "metadata": {},
   "outputs": [],
   "source": [
    "# dia 05/01/2022\n",
    "\n",
    "'''Good morning! Here's your coding interview problem for today.\n",
    "This problem was asked by Google.\n",
    "Implement locking in a binary tree. A binary tree node can be locked or unlocked only if all of its descendants or ancestors are not locked.\n",
    "Design a binary tree node class with the following methods:\n",
    "is_locked, which returns whether the node is locked\n",
    "lock, which attempts to lock the node. If it cannot be locked, then it should return false. Otherwise, it should lock it and return true.\n",
    "unlock, which unlocks the node. If it cannot be unlocked, then it should return false. Otherwise, it should unlock it and return true.\n",
    "You may augment the node to add parent pointers or any other property you would like. You may assume the class is used in a single-threaded program, so there is no need for actual locks or mutexes. Each method should run in O(h), where h is the height of the tree.'''"
   ]
  },
  {
   "cell_type": "code",
   "execution_count": null,
   "id": "4e8c5d08",
   "metadata": {},
   "outputs": [],
   "source": [
    "# dia 06/01/2022\n",
    "\n",
    "'''This problem was asked by Facebook.\n",
    "Implement regular expression matching with the following special characters:\n",
    ". (period) which matches any single character\n",
    "* (asterisk) which matches zero or more of the preceding element\n",
    "That is, implement a function that takes in a string and a valid regular expression and returns whether or not the string matches the regular expression.\n",
    "For example, given the regular expression \"ra.\" and the string \"ray\", your function should return true. The same regular expression on the string \"raymond\" should return false.\n",
    "Given the regular expression \".*at\" and the string \"chat\", your function should return true. The same regular expression on the string \"chats\" should return false.'''"
   ]
  },
  {
   "cell_type": "code",
   "execution_count": null,
   "id": "5d101ec6",
   "metadata": {},
   "outputs": [],
   "source": [
    "# dia 07/01/2022\n",
    "\n",
    "'''This problem was asked by Google.\n",
    "Given a singly linked list and an integer k, remove the kth last element from the list.\n",
    "k is guaranteed to be smaller than the length of the list.\n",
    "The list is very long, so making more than one pass is prohibitively expensive.\n",
    "Do this in constant space and in one pass.'''"
   ]
  },
  {
   "cell_type": "code",
   "execution_count": null,
   "id": "e101c280",
   "metadata": {},
   "outputs": [],
   "source": [
    "# dia 08/01/2022\n",
    "\n",
    "'''This problem was asked by Facebook.\n",
    "Given a string of round, curly, and square open and closing brackets,\n",
    "return whether the brackets are balanced (well-formed).\n",
    "For example, given the string \"([])[]({})\", you should return true.\n",
    "Given the string \"([)]\" or \"((()\", you should return false.'''"
   ]
  },
  {
   "cell_type": "code",
   "execution_count": null,
   "id": "19314678",
   "metadata": {},
   "outputs": [],
   "source": [
    "# dia 09/01/2022\n",
    "\n",
    "'''This problem was asked by Palantir.\n",
    "Write an algorithm to justify text. Given a sequence of words and an integer line length k, return a list of strings which represents each line, fully justified.\n",
    "More specifically, you should have as many words as possible in each line. There should be at least one space between each word. Pad extra spaces when necessary so that each line has exactly length k. Spaces should be distributed as equally as possible, with the extra spaces, if any, distributed starting from the left.\n",
    "If you can only fit one word on a line, then you should pad the right-hand side with spaces.\n",
    "Each word is guaranteed not to be longer than k.\n",
    "For example, given the list of words [\"the\", \"quick\", \"brown\", \"fox\", \"jumps\", \"over\", \"the\", \"lazy\", \"dog\"] and k = 16, you should return the following:\n",
    "[\"the  quick brown\", # 1 extra space on the left\n",
    "\"fox  jumps  over\", # 2 extra spaces distributed evenly\n",
    "\"the   lazy   dog\"] # 4 extra spaces distributed evenly'''"
   ]
  },
  {
   "cell_type": "code",
   "execution_count": null,
   "id": "b50bb3ef",
   "metadata": {},
   "outputs": [],
   "source": [
    "# dia 10/01/2022\n",
    "\n",
    "'''This problem was asked by Amazon.\n",
    "Run-length encoding is a fast and simple method of encoding strings. The basic idea is to represent repeated successive characters as a single count and character. For example, the string \"AAAABBBCCDAA\" would be encoded as \"4A3B2C1D2A\".\n",
    "Implement run-length encoding and decoding. You can assume the string to be encoded have no digits and consists solely of alphabetic characters. You can assume the string to be decoded is valid.'''"
   ]
  },
  {
   "cell_type": "code",
   "execution_count": null,
   "id": "28808e7f",
   "metadata": {},
   "outputs": [],
   "source": [
    "# dia 11/01/2022\n",
    "\n",
    "'''This problem was asked by Facebook.\n",
    "You are given an array of non-negative integers that represents a two-dimensional elevation\n",
    "map where each element is unit-width wall and the integer is the height. Suppose it will rain\n",
    "and all spots between two walls get filled up.\n",
    "Compute how many units of water remain trapped on the map in O(N) time and O(1) space.\n",
    "For example, given the input [2, 1, 2], we can hold 1 unit of water in the middle.\n",
    "Given the input [3, 0, 1, 3, 0, 5], we can hold 3 units in the first index, 2 in the second,\n",
    "and 3 in the fourth index (we cannot hold 5 since it would run off to the left), so we can trap 8 units of water.'''"
   ]
  }
 ],
 "metadata": {
  "kernelspec": {
   "display_name": "cientista",
   "language": "python",
   "name": "cientista"
  },
  "language_info": {
   "codemirror_mode": {
    "name": "ipython",
    "version": 3
   },
   "file_extension": ".py",
   "mimetype": "text/x-python",
   "name": "python",
   "nbconvert_exporter": "python",
   "pygments_lexer": "ipython3",
   "version": "3.10.0"
  }
 },
 "nbformat": 4,
 "nbformat_minor": 5
}
