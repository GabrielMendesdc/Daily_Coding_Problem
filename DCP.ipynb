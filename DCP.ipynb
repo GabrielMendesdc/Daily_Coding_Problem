{
 "cells": [
  {
   "cell_type": "code",
   "execution_count": 1,
   "id": "7872e7b4",
   "metadata": {},
   "outputs": [
    {
     "data": {
      "text/html": [
       "<style>.container { width:90% !important; }</style>"
      ],
      "text/plain": [
       "<IPython.core.display.HTML object>"
      ]
     },
     "metadata": {},
     "output_type": "display_data"
    }
   ],
   "source": [
    "from IPython.core.display import display, HTML\n",
    "display(HTML(\"<style>.container { width:90% !important; }</style>\"))"
   ]
  },
  {
   "cell_type": "code",
   "execution_count": null,
   "id": "52c677ae",
   "metadata": {
    "code_folding": [
     0
    ]
   },
   "outputs": [],
   "source": [
    "# dia 13/12/2021\n",
    "\n",
    "'''Good morning! Here's your coding interview problem for today.\n",
    "This problem was recently asked by Google.\n",
    "Given a list of numbers and a number k, return whether any two numbers from the list add up to k.\n",
    "For example, given [10, 15, 3, 7] and k of 17, return true since 10 + 7 is 17.\n",
    "\n",
    "Bonus: Can you do this in one pass?'''\n",
    "\n",
    "lista = [10,15,3,7]\n",
    "k=25\n",
    "def checagem(lista):\n",
    "    for i in lista:\n",
    "        for j in lista:\n",
    "            if i + j == k and lista.index(i) != lista.index(j):\n",
    "                return True\n",
    "            \n",
    "print(checagem(lista))"
   ]
  },
  {
   "cell_type": "code",
   "execution_count": null,
   "id": "d82a348c",
   "metadata": {
    "code_folding": [
     0
    ]
   },
   "outputs": [],
   "source": [
    "# dia 14/12/2021\n",
    "\n",
    "'''Good morning! Here's your coding interview problem for today.\n",
    "This problem was asked by Uber.\n",
    "Given an array of integers, return a new array such that each\n",
    "element at index i of the new array is the product of all the\n",
    "numbers in the original array except the one at i.\n",
    "For example, if our input was [1, 2, 3, 4, 5], the expected output\n",
    "would be [120, 60, 40, 30, 24]. If our input was [3, 2, 1],\n",
    "the expected output would be [2, 3, 6].\n",
    "\n",
    "Follow-up: what if you can't use division?'''\n",
    "\n",
    "lista = [1,2,3,4,5]\n",
    "nova = []\n",
    "soma = 1\n",
    "\n",
    "for i in lista:\n",
    "    for j in lista:\n",
    "        if lista.index(i) != lista.index(j):\n",
    "            soma = soma * j\n",
    "    nova.append(soma)\n",
    "    soma = 1\n",
    "print(nova)"
   ]
  },
  {
   "cell_type": "code",
   "execution_count": null,
   "id": "715bf972",
   "metadata": {
    "code_folding": [
     0
    ]
   },
   "outputs": [],
   "source": [
    "# dia 15/12/21\n",
    "\n",
    "'''23. Write a Python program to find the indices for which the numbers\n",
    "      of a given list of numbers array drops.\n",
    "\n",
    "Input: [0, -1, 3, 8, 5, 9, 8, 14, 2, 4, 3, -10, 10, 17, 41, 22, -4, -4, -15, 0]\n",
    "Output: [1, 4, 6, 8, 10, 11, 15, 16, 18]'''\n",
    "\n",
    "#esse problema não é o do Daily Code Problem, é do site https://www.w3resource.com/python-exercises/puzzles/index.php\n",
    "#the DCP was a file exercise and i didnt like it, so i done this\n",
    "\n",
    "lista = [0, -1, 3, 8, 5, 9, 8, 14, 2, 4, 3, -10, 10, 17, 41, 22, -4, -4, -15, 0]\n",
    "aux = 0\n",
    "nova = []\n",
    "for i in range(len(lista)):\n",
    "    if i == 0:\n",
    "        aux = lista[i]\n",
    "        continue\n",
    "    elif lista[i] < aux:\n",
    "        nova.append(i)\n",
    "    aux = lista[i]\n",
    "print(nova)"
   ]
  },
  {
   "cell_type": "code",
   "execution_count": null,
   "id": "7b0586e5",
   "metadata": {
    "code_folding": [
     0
    ]
   },
   "outputs": [],
   "source": [
    "# dia 16/12/2021\n",
    "\n",
    "'''Good morning! Here's your coding interview problem for today.\n",
    "This problem was asked by Stripe.Given an array of integers, \n",
    "find the first missing positive integer in linear time and constant space.\n",
    "In other words, find the lowest positive integer that does not exist in the array.\n",
    "The array can contain duplicates and negative numbers as well.\n",
    "For example, the input [3, 4, -1, 1] should give 2. The input [1, 2, 0] should give 3.\n",
    "You can modify the input array in-place.'''\n",
    "\n",
    "array = [3, 4, -1, 1]\n",
    "for i in range(1,len(array)):\n",
    "    if i not in array:\n",
    "        print(f'O {i} não está no array :D')\n",
    "        break"
   ]
  },
  {
   "cell_type": "code",
   "execution_count": null,
   "id": "86de36d0",
   "metadata": {
    "code_folding": [
     0
    ]
   },
   "outputs": [],
   "source": [
    "# dia 17/12/2021\n",
    "\n",
    "'''cons(a, b) constructs a pair, and car(pair)\n",
    "and cdr(pair) returns the first and last element\n",
    "of that pair. For example, car(cons(3, 4)) returns 3,\n",
    "and cdr(cons(3, 4)) returns 4.\n",
    "Given this implementation of cons:\n",
    "Implement car and cdr.'''\n",
    "\n",
    "\n",
    "def cons(a, b):\n",
    "    def pair(f):\n",
    "        return f(a, b)\n",
    "    return pair\n",
    "\n",
    "\n",
    "def cdr(x):\n",
    "    def retorno(a,b):\n",
    "        return a\n",
    "    return x(retorno)\n",
    "    \n",
    "def car(x):\n",
    "    def retorna(a,b):\n",
    "        return b\n",
    "    return x(retorna)\n",
    "\n",
    "\n",
    "print(cdr(cons(3,4)))\n",
    "print(car(cons(3,4)))"
   ]
  },
  {
   "cell_type": "code",
   "execution_count": null,
   "id": "10c4d46b",
   "metadata": {
    "code_folding": [
     0
    ]
   },
   "outputs": [],
   "source": [
    "# dia 18/12/2021\n",
    "\n",
    "'''Good morning! Here's your coding interview problem for today.\n",
    "This problem was asked by Google.\n",
    "An XOR linked list is a more memory efficient doubly linked list.\n",
    "Instead of each node holding next and prev fields, it holds a field named both,\n",
    "which is an XOR of the next node and the previous node. Implement an XOR linked list;\n",
    "it has an add(element) which adds the element to the end,\n",
    "and a get(index)which returns the node at index.\n",
    "If using a language that has no pointers (such as Python),\n",
    "you can assume you have access to get_pointer and dereference_pointer functions\n",
    "that converts between nodes and memory addresses'''\n",
    "\n",
    "#???\n",
    "''' W3 exercice: Write a Python program to create all possible strings by using \n",
    "'a', 'e', 'i', 'o', 'u'. Use the characters exactly once.'''\n",
    "lista = ['a', 'e', 'i', 'o', 'u']\n",
    "nova = []\n",
    "def gera(lista):\n",
    "    for i in lista:\n",
    "        for j in range(len(lista)):\n",
    "            if j == 0:\n",
    "                continue\n",
    "            print(i,lista[j])\n",
    "        lista = lista[1:]\n",
    "        \n",
    "gera(lista)"
   ]
  },
  {
   "cell_type": "code",
   "execution_count": null,
   "id": "e580718d",
   "metadata": {
    "code_folding": [
     0
    ]
   },
   "outputs": [],
   "source": [
    "# dia 19/12/2021\n",
    "    \n",
    "'''Daily Coding Problem\n",
    "Good morning! Here's your coding interview problem for today.\n",
    "This problem was asked by Facebook. Given the mapping a = 1, b = 2, ... z = 26,\n",
    "and an encoded message, count the number of ways it can be decoded.\n",
    "For example, the message '111' would give 3, since it could be decoded as 'aaa', 'ka', and 'ak'.\n",
    "You can assume that the messages are decodable. For example, '001' is not allowed.'''\n",
    "\n",
    "n = int(input('numero pls: '))\n",
    "\n",
    "def descobre(n):\n",
    "    stri = str(n)\n",
    "    poss = 1\n",
    "    lis=['a','b','c','d','e','f','g','h','i','j','k','l','m','n',\n",
    "         'o','p','q','r','s','t','u','v','w','x','y','z']\n",
    "    \n",
    "    for i in range(len(stri)):\n",
    "        if int(stri[i:i+2]) < 27 and int(stri[i:i+2]) > 9:\n",
    "            print('add',stri[i:i+2])\n",
    "            poss += 1\n",
    "    return poss\n",
    "print(descobre(n))\n"
   ]
  },
  {
   "cell_type": "code",
   "execution_count": null,
   "id": "bc668ab8",
   "metadata": {
    "code_folding": [
     0
    ]
   },
   "outputs": [],
   "source": [
    "# dia 20/12/2021\n",
    "\n",
    "'''\n",
    "Good morning! Here's your coding interview problem for today.\n",
    "This problem was asked by Google.\n",
    "A unival tree (which stands for \"universal value\") is a tree where all nodes under it have the same value.\n",
    "Given the root to a binary tree, count the number of unival subtrees.\n",
    "For example, the following tree has 5 unival subtrees:\n",
    "\n",
    "   0\n",
    "  / \\\n",
    " 1   0\n",
    "    / \\\n",
    "   1   0\n",
    "  / \\\n",
    " 1   1\n",
    " \n",
    " '''\n",
    "\n",
    "#???"
   ]
  },
  {
   "cell_type": "code",
   "execution_count": null,
   "id": "1bd0a492",
   "metadata": {
    "code_folding": [
     0
    ]
   },
   "outputs": [],
   "source": [
    "# DIA 21/12/2021\n",
    "\n",
    "'''This problem was asked by Airbnb.\n",
    "Given a list of integers, write a function that returns\n",
    "the largest sum of non-adjacent numbers. Numbers can be 0 or negative.\n",
    "For example, [2, 4, 6, 2, 5] should return 13, since we pick 2, 6, and 5.\n",
    "[5, 1, 1, 5] should return 10, since we pick 5 and 5.'''\n",
    "lista = [2, 4, 6, 2, 5]\n",
    "somas = []\n",
    "aux = 0\n",
    "for i in range(len(lista)):\n",
    "    for j in range(len(lista)):\n",
    "        if i+1 == j or i -1 == j or i == j:\n",
    "            continue\n",
    "        if j - 1 > len(lista):\n",
    "            print(lista[i],lista[j])\n",
    "            "
   ]
  },
  {
   "cell_type": "code",
   "execution_count": null,
   "id": "1858f61b",
   "metadata": {
    "code_folding": [
     0
    ]
   },
   "outputs": [],
   "source": [
    "# dia 22/12/2021\n",
    "\n",
    "'''Good morning! Here's your coding interview problem for today.\n",
    "This problem was asked by Apple.\n",
    "Implement a job scheduler which takes in a function f and an integer n,\n",
    "and calls f after n milliseconds.'''\n",
    "\n",
    "import time\n",
    "\n",
    "def f():\n",
    "    print('F')\n",
    "\n",
    "def chama(f, n):\n",
    "    time.sleep(n)\n",
    "    f()\n",
    "    \n",
    "    \n",
    "chama(f(),1000)"
   ]
  },
  {
   "cell_type": "code",
   "execution_count": null,
   "id": "4344d328",
   "metadata": {
    "code_folding": [
     0
    ]
   },
   "outputs": [],
   "source": [
    "# dia 23/12/2021\n",
    "\n",
    "'''This problem was asked by Twitter.\n",
    "Implement an autocomplete system. That is, given a query string s and a set of all possible query strings,\n",
    "return all strings in the set that have s as a prefix.\n",
    "For example, given the query string de and the set of strings [dog, deer, deal], return [deer, deal].\n",
    "Hint: Try preprocessing the dictionary into a more efficient data structure to speed up queries.'''"
   ]
  },
  {
   "cell_type": "code",
   "execution_count": null,
   "id": "d2be128a",
   "metadata": {
    "code_folding": [
     0
    ]
   },
   "outputs": [],
   "source": [
    "# dia 24/12/2021\n",
    "\n",
    "'''Good morning! Here's your coding interview problem for today.\n",
    "This problem was asked by Amazon. There exists a staircase with N steps,\n",
    "and you can climb up either 1 or 2 steps at a time. Given N,\n",
    "write a function that returns the number of unique ways you can climb the staircase.\n",
    "The order of the steps matters.\n",
    "For example, if N is 4, then there are 5 unique ways:\n",
    "\n",
    "1, 1, 1, 1\n",
    "2, 1, 1\n",
    "1, 2, 1\n",
    "1, 1, 2\n",
    "2, 2\n",
    "\n",
    "What if, instead of being able to climb 1 or 2 steps at a time,\n",
    "you could climb any number from a set of positive integers X?\n",
    "For example, if X = {1, 3, 5}, you could climb 1, 3, or 5 steps at a time.'''\n",
    "from random import choice\n",
    "\n",
    "def lena(e):\n",
    "    return len(e)\n",
    "\n",
    "\n",
    "n = 4\n",
    "x = (1,2)\n",
    "aux = []\n",
    "pos = []\n",
    "for i in range(10000):\n",
    "    aux.append(choice(x))\n",
    "    if aux in pos or sum(aux) > n:\n",
    "        aux = []\n",
    "    if sum(aux) == n:\n",
    "        pos.append(aux)\n",
    "        aux = []\n",
    "            \n",
    "            \n",
    "pos.sort(key=lena, reverse=True)\n",
    "for i in pos:\n",
    "    print(i)"
   ]
  },
  {
   "cell_type": "code",
   "execution_count": null,
   "id": "a4ac3413",
   "metadata": {
    "code_folding": [
     0
    ]
   },
   "outputs": [],
   "source": [
    "# dia 25/12/2021\n",
    "\n",
    "'''Good morning! Here's your coding interview problem for today.\n",
    "This problem was asked by Amazon.\n",
    "Given an integer k and a string s, find the length of the longest substring\n",
    "that contains at most k distinct characters.\n",
    "For example, given s = \"abcba\" and k = 2, the longest substring \n",
    "with k distinct characters is \"bcb\".'''"
   ]
  },
  {
   "cell_type": "code",
   "execution_count": null,
   "id": "c6cf0703",
   "metadata": {
    "code_folding": [
     0
    ]
   },
   "outputs": [],
   "source": [
    "# dia 26/12/2021\n",
    "\n",
    "'''Good morning! Here's your coding interview problem for today.\n",
    "This problem was asked by Google. The area of a circle is defined as πr^2.\n",
    "Estimate π to 3 decimal places using a Monte Carlo method.\n",
    "Hint: The basic equation of a circle is x2 + y2 = r2.'''\n",
    "\n",
    "import random\n",
    "  \n",
    "INTERVAL= 1000\n",
    "  \n",
    "circle_points= 0\n",
    "square_points= 0\n",
    "  \n",
    "for i in range(INTERVAL**2):\n",
    "    rand_x= random.uniform(-1, 1)\n",
    "    rand_y= random.uniform(-1, 1)\n",
    "    origin_dist= rand_x**2 + rand_y**2\n",
    "    if origin_dist<= 1:\n",
    "        circle_points+= 1\n",
    "    square_points+= 1\n",
    "    pi = 4* circle_points/ square_points\n",
    "\n",
    "print(\"Final Estimation of Pi=\", pi) "
   ]
  },
  {
   "cell_type": "code",
   "execution_count": null,
   "id": "44271c0b",
   "metadata": {
    "code_folding": [
     0
    ]
   },
   "outputs": [],
   "source": [
    "# dio 27/12/2021\n",
    "\n",
    "'''This problem was asked by Facebook.\n",
    "Given a stream of elements too large to store in memory,\n",
    "pick a random element from the stream with uniform probability.'''"
   ]
  },
  {
   "cell_type": "code",
   "execution_count": null,
   "id": "6322e5ec",
   "metadata": {
    "code_folding": [
     0
    ]
   },
   "outputs": [],
   "source": [
    "# dia 28/12/2021\n",
    "\n",
    "'''This problem was asked by Twitter.\n",
    "You run an e-commerce website and want to record the last N order ids in a log. Implement a data structure to accomplish this, with the following API:\n",
    "record(order_id): adds the order_id to the log\n",
    "get_last(i): gets the ith last element from the log. i is guaranteed to be smaller than or equal to N.\n",
    "You should be as efficient with time and space as possible.'''"
   ]
  },
  {
   "cell_type": "code",
   "execution_count": null,
   "id": "d8213698",
   "metadata": {
    "code_folding": [
     0
    ]
   },
   "outputs": [],
   "source": [
    "# dia 29/12/2021\n",
    "\n",
    "'''This problem was asked by Google.\n",
    "Suppose we represent our file system by a string in the following manner:\n",
    "The string \"dir\\n\\tsubdir1\\n\\tsubdir2\\n\\t\\tfile.ext\" represents:\n",
    "dir\n",
    "    subdir1\n",
    "    subdir2\n",
    "        file.ext\n",
    "The directory dir contains an empty sub-directory subdir1 and a sub-directory subdir2 containing a file file.ext.\n",
    "The string \"dir\\n\\tsubdir1\\n\\t\\tfile1.ext\\n\\t\\tsubsubdir1\\n\\tsubdir2\\n\\t\\tsubsubdir2\\n\\t\\t\\tfile2.ext\" represents:\n",
    "dir\n",
    "    subdir1\n",
    "        file1.ext\n",
    "        subsubdir1\n",
    "    subdir2\n",
    "        subsubdir2\n",
    "            file2.ext\n",
    "The directory dir contains two sub-directories subdir1 and subdir2. subdir1 contains a file file1.ext and an empty second-level sub-directory subsubdir1. subdir2 contains a second-level sub-directory subsubdir2 containing a file file2.ext.\n",
    "We are interested in finding the longest (number of characters) absolute path to a file within our file system. For example, in the second example above, the longest absolute path is \"dir/subdir2/subsubdir2/file2.ext\", and its length is 32 (not including the double quotes).\n",
    "Given a string representing the file system in the above format, return the length of the longest absolute path to a file in the abstracted file system. If there is no file in the system, return 0.\n",
    "Note: The name of a file contains at least a period and an extension.\n",
    "The name of a directory or sub-directory will not contain a period.'''"
   ]
  },
  {
   "cell_type": "code",
   "execution_count": null,
   "id": "468df1ea",
   "metadata": {
    "code_folding": [
     0
    ]
   },
   "outputs": [],
   "source": [
    "# dia 30/12/2021\n",
    "\n",
    "'''This problem was asked by Google.\n",
    "Given an array of integers and a number k, where 1 <= k <= length of the array, compute the maximum values of each subarray of length k.\n",
    "For example, given array = [10, 5, 2, 7, 8, 7] and k = 3, we should get: [10, 7, 8, 8], since:\n",
    "10 = max(10, 5, 2)\n",
    "7 = max(5, 2, 7)\n",
    "8 = max(2, 7, 8)\n",
    "8 = max(7, 8, 7)\n",
    "Do this in O(n) time and O(k) space. You can modify the input array in-place and you do not need to store the results. You can simply print them out as you compute them.'''"
   ]
  },
  {
   "cell_type": "code",
   "execution_count": null,
   "id": "01afe540",
   "metadata": {
    "code_folding": [
     0
    ]
   },
   "outputs": [],
   "source": [
    "# dia 31/12/2021\n",
    "\n",
    "'''This problem was asked by Facebook.\n",
    "A builder is looking to build a row of N houses that can be of K different colors. He has a goal of minimizing cost while ensuring that no two neighboring houses are of the same color.\n",
    "Given an N by K matrix where the nth row and kth column represents the cost to build the nth house with kth color, return the minimum cost which achieves this goal.'''"
   ]
  },
  {
   "cell_type": "code",
   "execution_count": null,
   "id": "a1205468",
   "metadata": {
    "code_folding": [
     0
    ]
   },
   "outputs": [],
   "source": [
    "# dia 01/01/2022\n",
    "\n",
    "'''This problem was asked by Google.\n",
    "Given two singly linked lists that intersect at some point, find the intersecting node. The lists are non-cyclical.\n",
    "For example, given A = 3 -> 7 -> 8 -> 10 and B = 99 -> 1 -> 8 -> 10, return the node with value 8.\n",
    "In this example, assume nodes with the same value are the exact same node objects.\n",
    "Do this in O(M + N) time (where M and N are the lengths of the lists) and constant space.'''"
   ]
  },
  {
   "cell_type": "code",
   "execution_count": null,
   "id": "650853de",
   "metadata": {
    "code_folding": [
     0
    ]
   },
   "outputs": [],
   "source": [
    "# dia 02/01/2022\n",
    "\n",
    "'''This problem was asked by Snapchat.\n",
    "Given an array of time intervals (start, end) for classroom lectures (possibly overlapping),\n",
    "find the minimum number of rooms required.\n",
    "For example, given [(30, 75), (0, 50), (60, 150)], you should return 2.'''"
   ]
  },
  {
   "cell_type": "code",
   "execution_count": null,
   "id": "b37ac923",
   "metadata": {
    "code_folding": [
     0
    ]
   },
   "outputs": [],
   "source": [
    "# dia 03/01/2022\n",
    "\n",
    "'''This problem was asked by Microsoft.\n",
    "Given a dictionary of words and a string made up of those words (no spaces), return the original sentence in a list.\n",
    "If there is more than one possible reconstruction, return any of them. If there is no possible reconstruction, then return null.\n",
    "For example, given the set of words 'quick', 'brown', 'the', 'fox',\n",
    "and the string \"thequickbrownfox\", you should return ['the', 'quick', 'brown', 'fox'].\n",
    "Given the set of words 'bed', 'bath', 'bedbath', 'and', 'beyond',\n",
    "and the string \"bedbathandbeyond\", return either ['bed', 'bath', 'and', 'beyond] or ['bedbath', 'and', 'beyond'].'''"
   ]
  },
  {
   "cell_type": "code",
   "execution_count": null,
   "id": "e00207b3",
   "metadata": {
    "code_folding": [
     0
    ]
   },
   "outputs": [],
   "source": [
    "# dia 04/01/2022\n",
    "\n",
    "'''This problem was asked by Google.\n",
    "You are given an M by N matrix consisting of booleans that represents a board. Each True boolean represents a wall. Each False boolean represents a tile you can walk on.\n",
    "Given this matrix, a start coordinate, and an end coordinate, return the minimum number of steps required to reach the end coordinate from the start.\n",
    "If there is no possible path, then return null. You can move up, left, down, and right. You cannot move through walls. You cannot wrap around the edges of the board.\n",
    "For example, given the following board:\n",
    "\n",
    "[[f, f, f, f],\n",
    "[t, t, f, t],\n",
    "[f, f, f, f],\n",
    "[f, f, f, f]]\n",
    "\n",
    "and start = (3, 0) (bottom left) and end = (0, 0) (top left), the minimum number of steps required to reach the end is 7,\n",
    "since we would need to go through (1, 2) because there is a wall everywhere else on the second row.'''"
   ]
  },
  {
   "cell_type": "code",
   "execution_count": null,
   "id": "1a560ddd",
   "metadata": {
    "code_folding": [
     0
    ]
   },
   "outputs": [],
   "source": [
    "# dia 05/01/2022\n",
    "\n",
    "'''Good morning! Here's your coding interview problem for today.\n",
    "This problem was asked by Google.\n",
    "Implement locking in a binary tree. A binary tree node can be locked or unlocked only if all of its descendants or ancestors are not locked.\n",
    "Design a binary tree node class with the following methods:\n",
    "is_locked, which returns whether the node is locked\n",
    "lock, which attempts to lock the node. If it cannot be locked, then it should return false. Otherwise, it should lock it and return true.\n",
    "unlock, which unlocks the node. If it cannot be unlocked, then it should return false. Otherwise, it should unlock it and return true.\n",
    "You may augment the node to add parent pointers or any other property you would like. You may assume the class is used in a single-threaded program, so there is no need for actual locks or mutexes. Each method should run in O(h), where h is the height of the tree.'''"
   ]
  },
  {
   "cell_type": "code",
   "execution_count": null,
   "id": "4e8c5d08",
   "metadata": {
    "code_folding": [
     0
    ]
   },
   "outputs": [],
   "source": [
    "# dia 06/01/2022\n",
    "\n",
    "'''This problem was asked by Facebook.\n",
    "Implement regular expression matching with the following special characters:\n",
    ". (period) which matches any single character\n",
    "* (asterisk) which matches zero or more of the preceding element\n",
    "That is, implement a function that takes in a string and a valid regular expression and returns whether or not the string matches the regular expression.\n",
    "For example, given the regular expression \"ra.\" and the string \"ray\", your function should return true. The same regular expression on the string \"raymond\" should return false.\n",
    "Given the regular expression \".*at\" and the string \"chat\", your function should return true. The same regular expression on the string \"chats\" should return false.'''"
   ]
  },
  {
   "cell_type": "code",
   "execution_count": null,
   "id": "5d101ec6",
   "metadata": {
    "code_folding": [
     0
    ]
   },
   "outputs": [],
   "source": [
    "# dia 07/01/2022\n",
    "\n",
    "'''This problem was asked by Google.\n",
    "Given a singly linked list and an integer k, remove the kth last element from the list.\n",
    "k is guaranteed to be smaller than the length of the list.\n",
    "The list is very long, so making more than one pass is prohibitively expensive.\n",
    "Do this in constant space and in one pass.'''\n",
    "k = 2\n",
    "lista = [1,2,6,4,5,6,7]\n",
    "nova = [lista[i] for i in range(len(lista)) if i != k]\n",
    "print(nova)"
   ]
  },
  {
   "cell_type": "code",
   "execution_count": null,
   "id": "e101c280",
   "metadata": {
    "code_folding": [
     0
    ]
   },
   "outputs": [],
   "source": [
    "# dia 08/01/2022\n",
    "\n",
    "'''This problem was asked by Facebook.\n",
    "Given a string of round, curly, and square open and closing brackets,\n",
    "return whether the brackets are balanced (well-formed).\n",
    "For example, given the string \"([])[]({})\", you should return true.\n",
    "Given the string \"([)]\" or \"((()\", you should return false.'''"
   ]
  },
  {
   "cell_type": "code",
   "execution_count": null,
   "id": "19314678",
   "metadata": {
    "code_folding": [
     0
    ]
   },
   "outputs": [],
   "source": [
    "# dia 09/01/2022\n",
    "\n",
    "'''This problem was asked by Palantir.\n",
    "Write an algorithm to justify text. Given a sequence of words and an integer line length k, return a list of strings which represents each line, fully justified.\n",
    "More specifically, you should have as many words as possible in each line. There should be at least one space between each word. Pad extra spaces when necessary so that each line has exactly length k. Spaces should be distributed as equally as possible, with the extra spaces, if any, distributed starting from the left.\n",
    "If you can only fit one word on a line, then you should pad the right-hand side with spaces.\n",
    "Each word is guaranteed not to be longer than k.\n",
    "For example, given the list of words [\"the\", \"quick\", \"brown\", \"fox\", \"jumps\", \"over\", \"the\", \"lazy\", \"dog\"] and k = 16, you should return the following:\n",
    "[\n",
    "\"the  quick brown\", # 1 extra space on the left\n",
    "\"fox  jumps  over\", # 2 extra spaces distributed evenly\n",
    "\"the   lazy   dog\"] # 4 extra spaces distributed evenly'''"
   ]
  },
  {
   "cell_type": "code",
   "execution_count": null,
   "id": "b50bb3ef",
   "metadata": {
    "code_folding": [
     0
    ]
   },
   "outputs": [],
   "source": [
    "# dia 10/01/2022\n",
    "\n",
    "'''This problem was asked by Amazon.\n",
    "Run-length encoding is a fast and simple method of encoding strings.\n",
    "The basic idea is to represent repeated successive characters as a single count and character.\n",
    "For example, the string \"AAAABBBCCDAA\" would be encoded as \"4A3B2C1D2A\".\n",
    "Implement run-length encoding and decoding. You can assume the string to be encoded have no digits\n",
    "and consists solely of alphabetic characters.\n",
    "You can assume the string to be decoded is valid.'''\n",
    "\n",
    "string = 'AAAAABBBCCCCCDABA'\n",
    "\n",
    "def encode(code):\n",
    "    last = ' '\n",
    "    aux = []\n",
    "    out = []\n",
    "    passou = False\n",
    "    for i in code:\n",
    "        if i == last or not passou:\n",
    "            print(i, 'repete')\n",
    "            aux.append(i)\n",
    "            passou = True\n",
    "        else:\n",
    "            print('novo aux',aux)\n",
    "            print(i, 'difere')\n",
    "            out.append(len(aux))\n",
    "            out.append(aux[0])\n",
    "            aux = []\n",
    "            aux.append(i)\n",
    "#             passou = False\n",
    "        last = i\n",
    "    print('novo aux',aux)\n",
    "    print(i, 'difere')\n",
    "    out.append(len(aux))\n",
    "    out.append(aux[0])\n",
    "    aux = []\n",
    "    aux.append(i)\n",
    "    return out\n",
    "                       \n",
    "output = ''.join([str(i) for i in encode(string)])                     \n",
    "print(output)"
   ]
  },
  {
   "cell_type": "code",
   "execution_count": null,
   "id": "28808e7f",
   "metadata": {
    "code_folding": [
     0
    ]
   },
   "outputs": [],
   "source": [
    "# dia 11/01/2022\n",
    "\n",
    "'''This problem was asked by Facebook.\n",
    "You are given an array of non-negative integers that represents a two-dimensional elevation\n",
    "map where each element is unit-width wall and the integer is the height. Suppose it will rain\n",
    "and all spots between two walls get filled up.\n",
    "Compute how many units of water remain trapped on the map in O(N) time and O(1) space.\n",
    "For example, given the input [2, 1, 2], we can hold 1 unit of water in the middle.\n",
    "Given the input [3, 0, 1, 3, 0, 5], we can hold 3 units in the first index, 2 in the second,\n",
    "and 3 in the fourth index (we cannot hold 5 since it would run off to the left), so we can trap 8 units of water.'''"
   ]
  },
  {
   "cell_type": "code",
   "execution_count": null,
   "id": "bc82c19f",
   "metadata": {
    "code_folding": [
     0
    ]
   },
   "outputs": [],
   "source": [
    "# dia 12/01/2022\n",
    "\n",
    "'''This problem was asked by Google.\n",
    "The edit distance between two strings refers to the minimum number of character insertions,\n",
    "deletions, and substitutions required to change one string to the other. For example,\n",
    "the edit distance between \"kitten\" and \"sitting\" is three: substitute the \"k\" for \"s\",\n",
    "substitute the \"e\" for \"i\", and append a \"g\".\n",
    "Given two strings, compute the edit distance between them.'''"
   ]
  },
  {
   "cell_type": "code",
   "execution_count": null,
   "id": "58bc8dd5",
   "metadata": {
    "code_folding": [
     0
    ]
   },
   "outputs": [],
   "source": [
    "# dia 13/01/2022\n",
    "\n",
    "'''This problem was asked by Jane Street.\n",
    "Suppose you are given a table of currency exchange rates, represented as a 2D array.\n",
    "determine whether there is a possible arbitrage: that is,\n",
    "whether there is some sequence of trades you can make,\n",
    "starting with some amount A of any currency,\n",
    "so that you can end up with some amount greater than A of that currency.\n",
    "There are no transaction costs and you can trade fractional quantities.'''"
   ]
  },
  {
   "cell_type": "code",
   "execution_count": null,
   "id": "a82fc61d",
   "metadata": {
    "code_folding": [
     0
    ]
   },
   "outputs": [],
   "source": [
    "# dia 14/01/2022\n",
    "\n",
    "'''This problem was asked by Microsoft.\n",
    "Compute the running median of a sequence of numbers. That is, given a stream of numbers,\n",
    "print out the median of the list so far on each new element.\n",
    "Recall that the median of an even-numbered list is the average of the two middle numbers.\n",
    "For example, given the sequence [2, 1, 5, 7, 2, 0, 5], your algorithm should print out:\n",
    "2\n",
    "1.5\n",
    "2\n",
    "3.5\n",
    "2\n",
    "2\n",
    "2\n",
    "'''\n",
    "aux = []\n",
    "x = 0\n",
    "lista = [2, 1, 5, 7, 2, 0, 5]\n",
    "t1,t2 = 0,0\n",
    "for i in lista:\n",
    "    aux.append(i)\n",
    "    aux.sort()\n",
    "    if len(aux) % 2 == 0:\n",
    "        t1 = len(aux)/2-1\n",
    "        t2 = len(aux)/2+1\n",
    "        x = aux[int(t1):int(t2)]\n",
    "        print((x[0]+x[1])/2)\n",
    "    else:\n",
    "        x = int(len(aux)//2)\n",
    "        print(aux[x])\n",
    "#     print(aux)"
   ]
  },
  {
   "cell_type": "code",
   "execution_count": null,
   "id": "6c685275",
   "metadata": {
    "code_folding": [
     0
    ]
   },
   "outputs": [],
   "source": [
    "# dia 15/01/2022\n",
    "\n",
    "'''This problem was asked by Quora.\n",
    "Given a string, find the palindrome that can be made by inserting the fewest number of characters as possible anywhere in the word.\n",
    "If there is more than one palindrome of minimum length that can be made, return the lexicographically earliest one (the first one alphabetically).\n",
    "For example, given the string \"race\", you should return \"ecarace\", since we can add three letters to it (which is the smallest amount to make a palindrome).\n",
    "There are seven other palindromes that can be made from \"race\" by adding three letters, but \"ecarace\" comes first alphabetically.\n",
    "As another example, given the string \"google\", you should return \"elgoogle\".'''"
   ]
  },
  {
   "cell_type": "code",
   "execution_count": null,
   "id": "9cf5e2b9",
   "metadata": {
    "code_folding": [
     0
    ]
   },
   "outputs": [],
   "source": [
    "# dia 16/01/2022\n",
    "\n",
    "'''This problem was asked by Google.\n",
    "Given an array of strictly the characters 'R', 'G', and 'B', segregate the values of the array so that all the Rs come first,\n",
    "the Gs come second, and the Bs come last. You can only swap elements of the array.\n",
    "Do this in linear time and in-place.\n",
    "For example, given the array ['G', 'B', 'R', 'R', 'B', 'R', 'G'], it should become ['R', 'R', 'R', 'G', 'G', 'B', 'B'].'''"
   ]
  },
  {
   "cell_type": "code",
   "execution_count": null,
   "id": "06e26414",
   "metadata": {
    "code_folding": [
     0
    ]
   },
   "outputs": [],
   "source": [
    "# dia 17/01/2022\n",
    "\n",
    "'''This problem was asked by Dropbox.\n",
    "Given the root to a binary search tree, find the second largest node in the tree.'''"
   ]
  },
  {
   "cell_type": "code",
   "execution_count": null,
   "id": "1b752dcc",
   "metadata": {
    "code_folding": [
     0
    ]
   },
   "outputs": [],
   "source": [
    "# dia 18/01/2022\n",
    "\n",
    "'''This problem was asked by Google.\n",
    "The power set of a set is the set of all its subsets.\n",
    "Write a function that, given a set, generates its power set.\n",
    "For example, given the set {1, 2, 3}, it should return\n",
    "{{}, {1}, {2}, {3}, {1, 2}, {1, 3}, {2, 3}, {1, 2, 3}}.\n",
    "You may also use a list or array to represent a set.'''"
   ]
  }
 ],
 "metadata": {
  "kernelspec": {
   "display_name": "cientista",
   "language": "python",
   "name": "cientista"
  },
  "language_info": {
   "codemirror_mode": {
    "name": "ipython",
    "version": 3
   },
   "file_extension": ".py",
   "mimetype": "text/x-python",
   "name": "python",
   "nbconvert_exporter": "python",
   "pygments_lexer": "ipython3",
   "version": "3.10.0"
  },
  "varInspector": {
   "cols": {
    "lenName": 16,
    "lenType": 16,
    "lenVar": 40
   },
   "kernels_config": {
    "python": {
     "delete_cmd_postfix": "",
     "delete_cmd_prefix": "del ",
     "library": "var_list.py",
     "varRefreshCmd": "print(var_dic_list())"
    },
    "r": {
     "delete_cmd_postfix": ") ",
     "delete_cmd_prefix": "rm(",
     "library": "var_list.r",
     "varRefreshCmd": "cat(var_dic_list()) "
    }
   },
   "position": {
    "height": "466.615px",
    "left": "1554.33px",
    "right": "20px",
    "top": "445px",
    "width": "508.767px"
   },
   "types_to_exclude": [
    "module",
    "function",
    "builtin_function_or_method",
    "instance",
    "_Feature"
   ],
   "window_display": true
  }
 },
 "nbformat": 4,
 "nbformat_minor": 5
}
