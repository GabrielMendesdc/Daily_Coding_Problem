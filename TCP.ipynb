{
 "cells": [
  {
   "cell_type": "code",
   "execution_count": 25,
   "id": "52c677ae",
   "metadata": {},
   "outputs": [
    {
     "name": "stdout",
     "output_type": "stream",
     "text": [
      "True\n"
     ]
    }
   ],
   "source": [
    "# dia 13/12/2021\n",
    "\n",
    "'''Good morning! Here's your coding interview problem for today.\n",
    "This problem was recently asked by Google.\n",
    "Given a list of numbers and a number k, return whether any two numbers from the list add up to k.\n",
    "For example, given [10, 15, 3, 7] and k of 17, return true since 10 + 7 is 17.\n",
    "\n",
    "Bonus: Can you do this in one pass?'''\n",
    "\n",
    "lista = [10,15,3,7]\n",
    "k=25\n",
    "def checagem(lista):\n",
    "    for i in lista:\n",
    "        for j in lista:\n",
    "            if i + j == k and lista.index(i) != lista.index(j):\n",
    "                return True\n",
    "            \n",
    "print(checagem(lista))"
   ]
  },
  {
   "cell_type": "code",
   "execution_count": 20,
   "id": "d82a348c",
   "metadata": {},
   "outputs": [
    {
     "name": "stdout",
     "output_type": "stream",
     "text": [
      "[120, 60, 40, 30, 24]\n"
     ]
    }
   ],
   "source": [
    "# dia 14/12/2021\n",
    "\n",
    "'''Good morning! Here's your coding interview problem for today.\n",
    "This problem was asked by Uber.\n",
    "Given an array of integers, return a new array such that each\n",
    "element at index i of the new array is the product of all the\n",
    "numbers in the original array except the one at i.\n",
    "For example, if our input was [1, 2, 3, 4, 5], the expected output\n",
    "would be [120, 60, 40, 30, 24]. If our input was [3, 2, 1],\n",
    "the expected output would be [2, 3, 6].\n",
    "\n",
    "Follow-up: what if you can't use division?'''\n",
    "\n",
    "lista = [1,2,3,4,5]\n",
    "nova = []\n",
    "soma = 1\n",
    "\n",
    "for i in lista:\n",
    "    for j in lista:\n",
    "        if lista.index(i) != lista.index(j):\n",
    "            soma = soma * j\n",
    "    nova.append(soma)\n",
    "    soma = 1\n",
    "print(nova)"
   ]
  },
  {
   "cell_type": "code",
   "execution_count": 27,
   "id": "715bf972",
   "metadata": {},
   "outputs": [
    {
     "ename": "TypeError",
     "evalue": "'<' not supported between instances of 'str' and 'int'",
     "output_type": "error",
     "traceback": [
      "\u001b[1;31m---------------------------------------------------------------------------\u001b[0m",
      "\u001b[1;31mTypeError\u001b[0m                                 Traceback (most recent call last)",
      "\u001b[1;32m~\\AppData\\Local\\Temp/ipykernel_12420/3173175567.py\u001b[0m in \u001b[0;36m<module>\u001b[1;34m\u001b[0m\n\u001b[0;32m     12\u001b[0m \u001b[0maux\u001b[0m \u001b[1;33m=\u001b[0m \u001b[1;36m0\u001b[0m\u001b[1;33m\u001b[0m\u001b[1;33m\u001b[0m\u001b[0m\n\u001b[0;32m     13\u001b[0m \u001b[1;32mfor\u001b[0m \u001b[0mi\u001b[0m \u001b[1;32min\u001b[0m \u001b[0mlista\u001b[0m\u001b[1;33m:\u001b[0m\u001b[1;33m\u001b[0m\u001b[1;33m\u001b[0m\u001b[0m\n\u001b[1;32m---> 14\u001b[1;33m     \u001b[1;32mif\u001b[0m \u001b[0mint\u001b[0m\u001b[1;33m(\u001b[0m\u001b[0mlista\u001b[0m\u001b[1;33m.\u001b[0m\u001b[0mindex\u001b[0m\u001b[1;33m(\u001b[0m\u001b[0mi\u001b[0m\u001b[1;33m)\u001b[0m\u001b[1;33m)\u001b[0m \u001b[1;33m>\u001b[0m \u001b[1;36m0\u001b[0m \u001b[1;32mand\u001b[0m \u001b[0mi\u001b[0m \u001b[1;33m<\u001b[0m \u001b[0maux\u001b[0m\u001b[1;33m:\u001b[0m\u001b[1;33m\u001b[0m\u001b[1;33m\u001b[0m\u001b[0m\n\u001b[0m\u001b[0;32m     15\u001b[0m         \u001b[0mlista\u001b[0m\u001b[1;33m[\u001b[0m\u001b[0mi\u001b[0m\u001b[1;33m:\u001b[0m\u001b[0mlista\u001b[0m\u001b[1;33m.\u001b[0m\u001b[0mindex\u001b[0m\u001b[1;33m(\u001b[0m\u001b[0mi\u001b[0m\u001b[1;33m)\u001b[0m\u001b[1;33m]\u001b[0m \u001b[1;33m=\u001b[0m \u001b[0mstr\u001b[0m\u001b[1;33m(\u001b[0m\u001b[0mi\u001b[0m\u001b[1;33m)\u001b[0m\u001b[1;33m\u001b[0m\u001b[1;33m\u001b[0m\u001b[0m\n\u001b[0;32m     16\u001b[0m         \u001b[0mnova\u001b[0m\u001b[1;33m.\u001b[0m\u001b[0mappend\u001b[0m\u001b[1;33m(\u001b[0m\u001b[0mlista\u001b[0m\u001b[1;33m.\u001b[0m\u001b[0mindex\u001b[0m\u001b[1;33m(\u001b[0m\u001b[0mi\u001b[0m\u001b[1;33m)\u001b[0m\u001b[1;33m)\u001b[0m\u001b[1;33m\u001b[0m\u001b[1;33m\u001b[0m\u001b[0m\n",
      "\u001b[1;31mTypeError\u001b[0m: '<' not supported between instances of 'str' and 'int'"
     ]
    }
   ],
   "source": [
    "# dia 15/12/21\n",
    "\n",
    "'''23. Write a Python program to find the indices for which the numbers of a given list of numbers array drops. Go to the editor\n",
    "Input: [0, -1, 3, 8, 5, 9, 8, 14, 2, 4, 3, -10, 10, 17, 41, 22, -4, -4, -15, 0]\n",
    "Output: [1, 4, 6, 8, 10, 11, 15, 16, 18]'''\n",
    "\n",
    "#esse problema não é o do Daily Code Problem, é do site https://www.w3resource.com/python-exercises/puzzles/index.php\n",
    "#the DCP was a file exercise and i didnt like it, so i done this\n",
    "\n",
    "lista = [0, -1, 3, 8, 5, 9, 8, 14, 2, 4, 3, -10, 10, 17, 41, 22, -4, -4, -15, 0]\n",
    "nova = []\n",
    "aux = 0\n",
    "for i in lista:\n",
    "    if lista.index(i) > 0 and i < aux:\n",
    "        lista[i:lista.index(i)] = str(i)\n",
    "        nova.append(lista.index(i))\n",
    "    aux = i\n",
    "print(lista)\n",
    "print(nova)   "
   ]
  },
  {
   "cell_type": "code",
   "execution_count": 4,
   "id": "7b0586e5",
   "metadata": {},
   "outputs": [
    {
     "name": "stdout",
     "output_type": "stream",
     "text": [
      "O 2 não está no array :D\n"
     ]
    }
   ],
   "source": [
    "# dia 16/12/2021\n",
    "\n",
    "'''Good morning! Here's your coding interview problem for today.\n",
    "This problem was asked by Stripe.Given an array of integers, \n",
    "find the first missing positive integer in linear time and constant space.\n",
    "In other words, find the lowest positive integer that does not exist in the array.\n",
    "The array can contain duplicates and negative numbers as well.\n",
    "For example, the input [3, 4, -1, 1] should give 2. The input [1, 2, 0] should give 3.\n",
    "You can modify the input array in-place.'''\n",
    "\n",
    "array = [3, 4, -1, 1]\n",
    "for i in range(1,len(array)):\n",
    "    if i not in array:\n",
    "        print(f'O {i} não está no array :D')\n",
    "        break"
   ]
  },
  {
   "cell_type": "code",
   "execution_count": null,
   "id": "86de36d0",
   "metadata": {},
   "outputs": [],
   "source": [
    "# dia 17/12/2021\n",
    "\n",
    "'''cons(a, b) constructs a pair, and car(pair)\n",
    "and cdr(pair) returns the first and last element\n",
    "of that pair. For example, car(cons(3, 4)) returns 3,\n",
    "and cdr(cons(3, 4)) returns 4.\n",
    "Given this implementation of cons:\n",
    "def cons(a, b):\n",
    "    def pair(f):\n",
    "        return f(a, b)\n",
    "    return pair\n",
    "Implement car and cdr.'''\n",
    "\n",
    "def cdr(x, y):\n",
    "    return y\n",
    "\n",
    "    \n",
    "def car(x, y):\n",
    "    return x\n",
    "    \n",
    "    "
   ]
  },
  {
   "cell_type": "code",
   "execution_count": 25,
   "id": "e580718d",
   "metadata": {},
   "outputs": [
    {
     "name": "stdout",
     "output_type": "stream",
     "text": [
      "numero pls: 1111\n",
      "26\n",
      "add 1\n",
      "add 1\n",
      "add 1\n",
      "7\n"
     ]
    }
   ],
   "source": [
    " # dia 20/12/2021\n",
    "    \n",
    "'''Daily Coding Problem\n",
    "Good morning! Here's your coding interview problem for today.\n",
    "This problem was asked by Facebook. Given the mapping a = 1, b = 2, ... z = 26,\n",
    "and an encoded message, count the number of ways it can be decoded.\n",
    "For example, the message '111' would give 3, since it could be decoded as 'aaa', 'ka', and 'ak'.\n",
    "You can assume that the messages are decodable. For example, '001' is not allowed.'''\n",
    "\n",
    "n = int(input('numero pls: '))\n",
    "\n",
    "def descobre(n):\n",
    "    stri = str(n)\n",
    "    poss = 0\n",
    "    lis=['a','b','c','d','e','f','g','h','i','j','k','l','m','n',\n",
    "         'o','p','q','r','s','t','u','v','w','x','y','z']\n",
    "    print(len(lis))\n",
    "    for i in range(len(stri)):\n",
    "        if int(stri[i:i+2]) < 27 and not i == len(stri)-1 and int(stri[i:i+2]) > 9:\n",
    "            print('add',stri[i:i+1])\n",
    "            poss += 1\n",
    "    poss += len(stri)\n",
    "    return poss\n",
    "print(descobre(n))\n"
   ]
  },
  {
   "cell_type": "code",
   "execution_count": 9,
   "id": "1bd0a492",
   "metadata": {},
   "outputs": [
    {
     "ename": "IndexError",
     "evalue": "pop index out of range",
     "output_type": "error",
     "traceback": [
      "\u001b[1;31m---------------------------------------------------------------------------\u001b[0m",
      "\u001b[1;31mIndexError\u001b[0m                                Traceback (most recent call last)",
      "\u001b[1;32m~\\AppData\\Local\\Temp/ipykernel_4708/1135695879.py\u001b[0m in \u001b[0;36m<module>\u001b[1;34m\u001b[0m\n\u001b[0;32m     30\u001b[0m \u001b[1;33m\u001b[0m\u001b[0m\n\u001b[0;32m     31\u001b[0m \u001b[1;33m\u001b[0m\u001b[0m\n\u001b[1;32m---> 32\u001b[1;33m \u001b[0mliga\u001b[0m\u001b[1;33m(\u001b[0m\u001b[0mlista\u001b[0m\u001b[1;33m)\u001b[0m\u001b[1;33m\u001b[0m\u001b[1;33m\u001b[0m\u001b[0m\n\u001b[0m",
      "\u001b[1;32m~\\AppData\\Local\\Temp/ipykernel_4708/1135695879.py\u001b[0m in \u001b[0;36mliga\u001b[1;34m(lista)\u001b[0m\n\u001b[0;32m     19\u001b[0m     \u001b[0ml\u001b[0m\u001b[1;33m.\u001b[0m\u001b[0mappend\u001b[0m\u001b[1;33m(\u001b[0m\u001b[0mmax\u001b[0m\u001b[1;33m(\u001b[0m\u001b[0mlista\u001b[0m\u001b[1;33m)\u001b[0m\u001b[1;33m)\u001b[0m\u001b[1;33m\u001b[0m\u001b[1;33m\u001b[0m\u001b[0m\n\u001b[0;32m     20\u001b[0m     \u001b[0mi\u001b[0m \u001b[1;33m=\u001b[0m \u001b[0mlista\u001b[0m\u001b[1;33m.\u001b[0m\u001b[0mindex\u001b[0m\u001b[1;33m(\u001b[0m\u001b[0mmax\u001b[0m\u001b[1;33m(\u001b[0m\u001b[0mlista\u001b[0m\u001b[1;33m)\u001b[0m\u001b[1;33m)\u001b[0m\u001b[1;33m\u001b[0m\u001b[1;33m\u001b[0m\u001b[0m\n\u001b[1;32m---> 21\u001b[1;33m     \u001b[0mlista\u001b[0m\u001b[1;33m.\u001b[0m\u001b[0mpop\u001b[0m\u001b[1;33m(\u001b[0m\u001b[0mi\u001b[0m\u001b[1;33m+\u001b[0m\u001b[1;36m1\u001b[0m\u001b[1;33m)\u001b[0m\u001b[1;33m\u001b[0m\u001b[1;33m\u001b[0m\u001b[0m\n\u001b[0m\u001b[0;32m     22\u001b[0m     \u001b[0mlista\u001b[0m\u001b[1;33m.\u001b[0m\u001b[0mpop\u001b[0m\u001b[1;33m(\u001b[0m\u001b[0mi\u001b[0m\u001b[1;33m)\u001b[0m\u001b[1;33m\u001b[0m\u001b[1;33m\u001b[0m\u001b[0m\n\u001b[0;32m     23\u001b[0m     \u001b[0mlista\u001b[0m\u001b[1;33m.\u001b[0m\u001b[0mpop\u001b[0m\u001b[1;33m(\u001b[0m\u001b[0mi\u001b[0m\u001b[1;33m-\u001b[0m\u001b[1;36m1\u001b[0m\u001b[1;33m)\u001b[0m\u001b[1;33m\u001b[0m\u001b[1;33m\u001b[0m\u001b[0m\n",
      "\u001b[1;31mIndexError\u001b[0m: pop index out of range"
     ]
    }
   ],
   "source": [
    "# DIA 21/12/2021\n",
    "\n",
    "'''This problem was asked by Airbnb.\n",
    "Given a list of integers, write a function that returns\n",
    "the largest sum of non-adjacent numbers. Numbers can be 0 or negative.\n",
    "For example, [2, 4, 6, 2, 5] should return 13, since we pick 2, 6, and 5.\n",
    "[5, 1, 1, 5] should return 10, since we pick 5 and 5.'''\n",
    "\n",
    "lista = [2, 4, 6, 2, 5]\n",
    "l = []\n",
    "\n",
    "copia = lista[::]\n",
    "c = []\n",
    "\n",
    "def liga(lista):\n",
    "    l.append(lista[0])\n",
    "    lista.pop(0)\n",
    "    lista.pop(1)\n",
    "    l.append(max(lista))\n",
    "    i = lista.index(max(lista))\n",
    "    try:\n",
    "        lista.pop(i+1)\n",
    "        lista.pop(i)\n",
    "        lista.pop(i-1)\n",
    "    except IndexError:\n",
    "        pass\n",
    "    print(lista)\n",
    "    \n",
    "    \n",
    "def copiado(copia):\n",
    "    pass\n",
    "    \n",
    "    \n",
    "    \n",
    "liga(lista)\n"
   ]
  },
  {
   "cell_type": "code",
   "execution_count": null,
   "id": "1858f61b",
   "metadata": {},
   "outputs": [
    {
     "name": "stdout",
     "output_type": "stream",
     "text": [
      "F\n"
     ]
    }
   ],
   "source": [
    "# dia 22/12/2021\n",
    "\n",
    "'''Good morning! Here's your coding interview problem for today.\n",
    "This problem was asked by Apple.\n",
    "Implement a job scheduler which takes in a function f and an integer n,\n",
    "and calls f after n milliseconds.'''\n",
    "\n",
    "import time\n",
    "\n",
    "def f():\n",
    "    print('F')\n",
    "\n",
    "def chama(f, n):\n",
    "    time.sleep(n)\n",
    "    f()\n",
    "    \n",
    "    \n",
    "chama(f(),1000)"
   ]
  }
 ],
 "metadata": {
  "kernelspec": {
   "display_name": "cientista",
   "language": "python",
   "name": "cientista"
  },
  "language_info": {
   "codemirror_mode": {
    "name": "ipython",
    "version": 3
   },
   "file_extension": ".py",
   "mimetype": "text/x-python",
   "name": "python",
   "nbconvert_exporter": "python",
   "pygments_lexer": "ipython3",
   "version": "3.10.0"
  }
 },
 "nbformat": 4,
 "nbformat_minor": 5
}
