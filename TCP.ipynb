{
 "cells": [
  {
   "cell_type": "code",
   "execution_count": 25,
   "id": "52c677ae",
   "metadata": {},
   "outputs": [
    {
     "name": "stdout",
     "output_type": "stream",
     "text": [
      "True\n"
     ]
    }
   ],
   "source": [
    "# dia 13/12/2021\n",
    "\n",
    "'''Good morning! Here's your coding interview problem for today.\n",
    "This problem was recently asked by Google.\n",
    "Given a list of numbers and a number k, return whether any two numbers from the list add up to k.\n",
    "For example, given [10, 15, 3, 7] and k of 17, return true since 10 + 7 is 17.\n",
    "\n",
    "Bonus: Can you do this in one pass?'''\n",
    "\n",
    "lista = [10,15,3,7]\n",
    "k=25\n",
    "def checagem(lista):\n",
    "    for i in lista:\n",
    "        for j in lista:\n",
    "            if i + j == k and lista.index(i) != lista.index(j):\n",
    "                return True\n",
    "            \n",
    "print(checagem(lista))"
   ]
  },
  {
   "cell_type": "code",
   "execution_count": 20,
   "id": "d82a348c",
   "metadata": {},
   "outputs": [
    {
     "name": "stdout",
     "output_type": "stream",
     "text": [
      "[120, 60, 40, 30, 24]\n"
     ]
    }
   ],
   "source": [
    "# dia 14/12/2021\n",
    "\n",
    "'''Good morning! Here's your coding interview problem for today.\n",
    "This problem was asked by Uber.\n",
    "Given an array of integers, return a new array such that each\n",
    "element at index i of the new array is the product of all the\n",
    "numbers in the original array except the one at i.\n",
    "For example, if our input was [1, 2, 3, 4, 5], the expected output\n",
    "would be [120, 60, 40, 30, 24]. If our input was [3, 2, 1],\n",
    "the expected output would be [2, 3, 6].\n",
    "\n",
    "Follow-up: what if you can't use division?'''\n",
    "\n",
    "lista = [1,2,3,4,5]\n",
    "nova = []\n",
    "soma = 1\n",
    "\n",
    "for i in lista:\n",
    "    for j in lista:\n",
    "        if lista.index(i) != lista.index(j):\n",
    "            soma = soma * j\n",
    "    nova.append(soma)\n",
    "    soma = 1\n",
    "print(nova)"
   ]
  },
  {
   "cell_type": "code",
   "execution_count": 4,
   "id": "12b5d3f7",
   "metadata": {},
   "outputs": [
    {
     "name": "stdout",
     "output_type": "stream",
     "text": [
      "O 2 não está no array :D\n"
     ]
    }
   ],
   "source": [
    "# dia 16/12/2021\n",
    "\n",
    "'''Good morning! Here's your coding interview problem for today.\n",
    "This problem was asked by Stripe.Given an array of integers, \n",
    "find the first missing positive integer in linear time and constant space.\n",
    "In other words, find the lowest positive integer that does not exist in the array.\n",
    "The array can contain duplicates and negative numbers as well.\n",
    "For example, the input [3, 4, -1, 1] should give 2. The input [1, 2, 0] should give 3.\n",
    "You can modify the input array in-place.'''\n",
    "\n",
    "array = [3, 4, -1, 1]\n",
    "for i in range(1,len(array)):\n",
    "    if i not in array:\n",
    "        print(f'O {i} não está no array :D')\n",
    "        break"
   ]
  },
  {
   "cell_type": "code",
   "execution_count": null,
   "id": "34050b3d",
   "metadata": {},
   "outputs": [],
   "source": []
  }
 ],
 "metadata": {
  "kernelspec": {
   "display_name": "cientista",
   "language": "python",
   "name": "cientista"
  },
  "language_info": {
   "codemirror_mode": {
    "name": "ipython",
    "version": 3
   },
   "file_extension": ".py",
   "mimetype": "text/x-python",
   "name": "python",
   "nbconvert_exporter": "python",
   "pygments_lexer": "ipython3",
   "version": "3.10.0"
  }
 },
 "nbformat": 4,
 "nbformat_minor": 5
}
